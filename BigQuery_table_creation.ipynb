{
  "nbformat": 4,
  "nbformat_minor": 0,
  "metadata": {
    "colab": {
      "provenance": [],
      "include_colab_link": true
    },
    "kernelspec": {
      "name": "python3",
      "display_name": "Python 3"
    }
  },
  "cells": [
    {
      "cell_type": "markdown",
      "metadata": {
        "id": "view-in-github",
        "colab_type": "text"
      },
      "source": [
        "<a href=\"https://colab.research.google.com/github/MeghanGH/BigQuery-Python/blob/main/BigQuery_table_creation.ipynb\" target=\"_parent\"><img src=\"https://colab.research.google.com/assets/colab-badge.svg\" alt=\"Open In Colab\"/></a>"
      ]
    },
    {
      "cell_type": "markdown",
      "metadata": {
        "id": "Xm9K0GA_mj4q"
      },
      "source": [
        "# BigQuery table creation\n",
        "\n",
        "**[Big Data and Cloud Computing](https://moodle.up.pt/course/view.php?id=4854), Eduardo R. B. Marques, DCC/FCUP**\n",
        "\n",
        "This notebook introduces you to the creation of BigQuery tables using the [__BigQuery client Python API__](https://googleapis.dev/python/bigquery/latest/).\n",
        "\n",
        "For illustration we will consider the __'airports'__ and __'flights_airport'__ data sets that are part of  [__the Vega datasets__](https://github.com/vega/vega-datasets) that are acessible through the [__vega_datasets python package__](https://pypi.org/project/vega-datasets/).\n",
        "The data at stake relates to airports and flights between airports in North America.\n",
        "\n"
      ]
    },
    {
      "cell_type": "markdown",
      "metadata": {
        "id": "JOd2ubn6qa4F"
      },
      "source": [
        "## Activate BigQuery for your GCP project\n",
        "\n",
        "First make sure you access the [BigQuery user interface in the GCP console](https://console.cloud.google.com/bigquery) and activate BigQuery for the GCP project you will be using.\n",
        "\n",
        "Keep the BigQuery UI open in your browser for checking the results of operations."
      ]
    },
    {
      "cell_type": "markdown",
      "metadata": {
        "id": "q0-BniHzp57z"
      },
      "source": [
        "## Get access to Google Cloud from the notebook\n",
        "\n",
        "\n",
        "\n"
      ]
    },
    {
      "cell_type": "markdown",
      "metadata": {
        "id": "vc9n0cz3tyjR"
      },
      "source": [
        "### Set your project id"
      ]
    },
    {
      "cell_type": "code",
      "metadata": {
        "id": "HHXA9xlBt3Uf"
      },
      "source": [
        "PROJECT_ID = 'bdcc2023' #@param {type: \"string\"}"
      ],
      "execution_count": null,
      "outputs": []
    },
    {
      "cell_type": "markdown",
      "metadata": {
        "id": "CTcgjupHuctD"
      },
      "source": [
        "\n",
        "### Authenticate to Google Cloud\n",
        "\n",
        "To authenticate to Google Cloud we will use the\n",
        "a redirection to GCP that supplies a verification code.\n"
      ]
    },
    {
      "cell_type": "code",
      "metadata": {
        "id": "8qdviuoUts3X",
        "colab": {
          "base_uri": "https://localhost:8080/"
        },
        "outputId": "aaea1c2a-6ddc-4a0e-8310-8d857a5bf02b"
      },
      "source": [
        "from google.colab import auth\n",
        "auth.authenticate_user()\n",
        "!gcloud config set project {PROJECT_ID}"
      ],
      "execution_count": null,
      "outputs": [
        {
          "output_type": "stream",
          "name": "stdout",
          "text": [
            "Updated property [core/project].\n"
          ]
        }
      ]
    },
    {
      "cell_type": "markdown",
      "metadata": {
        "id": "2dzAlgLXu0as"
      },
      "source": [
        "## Create BigQuery client\n",
        "\n",
        "We are now ready to use BigQuery.\n",
        "\n",
        "We first create the BigQuery client handle, i.e., a [Client](https://googleapis.dev/python/bigquery/latest/generated/google.cloud.bigquery.client.Client.html#google.cloud.bigquery.client.Client) object."
      ]
    },
    {
      "cell_type": "code",
      "metadata": {
        "id": "4ykiUv7duu3e"
      },
      "source": [
        "import google.cloud.bigquery as bq\n",
        "\n",
        "client = bq.Client(project=PROJECT_ID)"
      ],
      "execution_count": null,
      "outputs": []
    },
    {
      "cell_type": "markdown",
      "metadata": {
        "id": "FnAo03kAvYoI"
      },
      "source": [
        "## Create Vega dataset in BigQuery\n",
        "\n",
        "We will create the dataset first, so that we can associate tables to it. Running the code below, we obtain a [Dataset](https://googleapis.dev/python/bigquery/latest/generated/google.cloud.bigquery.dataset.Dataset.html) object.\n",
        "\n",
        "After executing, check the BigQuery console interface to verify that the `vega` dataset exists. __Reload the page if necessary.__"
      ]
    },
    {
      "cell_type": "code",
      "metadata": {
        "id": "5YR-e5BcwIda"
      },
      "source": [
        "dataset = client.create_dataset('vega', exists_ok=True)"
      ],
      "execution_count": null,
      "outputs": []
    },
    {
      "cell_type": "markdown",
      "metadata": {
        "id": "nAdJ8lMpxmuh"
      },
      "source": [
        "## Create the tables and associated schema\n",
        "\n"
      ]
    },
    {
      "cell_type": "code",
      "metadata": {
        "id": "Cix6tOaKzWwG"
      },
      "source": [
        "import vega_datasets as vd\n",
        "import pandas as pd"
      ],
      "execution_count": null,
      "outputs": []
    },
    {
      "cell_type": "markdown",
      "metadata": {
        "id": "oLGBwzuZzP1j"
      },
      "source": [
        "### Load airport data to use"
      ]
    },
    {
      "cell_type": "code",
      "metadata": {
        "id": "IHHgVctGzS5Q",
        "colab": {
          "base_uri": "https://localhost:8080/",
          "height": 423
        },
        "outputId": "5e02bf5d-9bfd-4f85-c7a5-afb50017a937"
      },
      "source": [
        "airports = pd.read_csv(vd.data.airports.url)\n",
        "airports"
      ],
      "execution_count": null,
      "outputs": [
        {
          "output_type": "execute_result",
          "data": {
            "text/plain": [
              "     iata                       name              city state country  \\\n",
              "0     00M                    Thigpen       Bay Springs    MS     USA   \n",
              "1     00R       Livingston Municipal        Livingston    TX     USA   \n",
              "2     00V                Meadow Lake  Colorado Springs    CO     USA   \n",
              "3     01G               Perry-Warsaw             Perry    NY     USA   \n",
              "4     01J           Hilliard Airpark          Hilliard    FL     USA   \n",
              "...   ...                        ...               ...   ...     ...   \n",
              "3371  ZEF            Elkin Municipal             Elkin    NC     USA   \n",
              "3372  ZER  Schuylkill Cty/Joe Zerbey        Pottsville    PA     USA   \n",
              "3373  ZPH      Zephyrhills Municipal       Zephyrhills    FL     USA   \n",
              "3374  ZUN                 Black Rock              Zuni    NM     USA   \n",
              "3375  ZZV       Zanesville Municipal        Zanesville    OH     USA   \n",
              "\n",
              "       latitude   longitude  \n",
              "0     31.953765  -89.234505  \n",
              "1     30.685861  -95.017928  \n",
              "2     38.945749 -104.569893  \n",
              "3     42.741347  -78.052081  \n",
              "4     30.688012  -81.905944  \n",
              "...         ...         ...  \n",
              "3371  36.280024  -80.786069  \n",
              "3372  40.706449  -76.373147  \n",
              "3373  28.228065  -82.155916  \n",
              "3374  35.083227 -108.791777  \n",
              "3375  39.944458  -81.892105  \n",
              "\n",
              "[3376 rows x 7 columns]"
            ],
            "text/html": [
              "\n",
              "  <div id=\"df-4063b9fb-c1e8-480c-a32f-5967eedad4db\">\n",
              "    <div class=\"colab-df-container\">\n",
              "      <div>\n",
              "<style scoped>\n",
              "    .dataframe tbody tr th:only-of-type {\n",
              "        vertical-align: middle;\n",
              "    }\n",
              "\n",
              "    .dataframe tbody tr th {\n",
              "        vertical-align: top;\n",
              "    }\n",
              "\n",
              "    .dataframe thead th {\n",
              "        text-align: right;\n",
              "    }\n",
              "</style>\n",
              "<table border=\"1\" class=\"dataframe\">\n",
              "  <thead>\n",
              "    <tr style=\"text-align: right;\">\n",
              "      <th></th>\n",
              "      <th>iata</th>\n",
              "      <th>name</th>\n",
              "      <th>city</th>\n",
              "      <th>state</th>\n",
              "      <th>country</th>\n",
              "      <th>latitude</th>\n",
              "      <th>longitude</th>\n",
              "    </tr>\n",
              "  </thead>\n",
              "  <tbody>\n",
              "    <tr>\n",
              "      <th>0</th>\n",
              "      <td>00M</td>\n",
              "      <td>Thigpen</td>\n",
              "      <td>Bay Springs</td>\n",
              "      <td>MS</td>\n",
              "      <td>USA</td>\n",
              "      <td>31.953765</td>\n",
              "      <td>-89.234505</td>\n",
              "    </tr>\n",
              "    <tr>\n",
              "      <th>1</th>\n",
              "      <td>00R</td>\n",
              "      <td>Livingston Municipal</td>\n",
              "      <td>Livingston</td>\n",
              "      <td>TX</td>\n",
              "      <td>USA</td>\n",
              "      <td>30.685861</td>\n",
              "      <td>-95.017928</td>\n",
              "    </tr>\n",
              "    <tr>\n",
              "      <th>2</th>\n",
              "      <td>00V</td>\n",
              "      <td>Meadow Lake</td>\n",
              "      <td>Colorado Springs</td>\n",
              "      <td>CO</td>\n",
              "      <td>USA</td>\n",
              "      <td>38.945749</td>\n",
              "      <td>-104.569893</td>\n",
              "    </tr>\n",
              "    <tr>\n",
              "      <th>3</th>\n",
              "      <td>01G</td>\n",
              "      <td>Perry-Warsaw</td>\n",
              "      <td>Perry</td>\n",
              "      <td>NY</td>\n",
              "      <td>USA</td>\n",
              "      <td>42.741347</td>\n",
              "      <td>-78.052081</td>\n",
              "    </tr>\n",
              "    <tr>\n",
              "      <th>4</th>\n",
              "      <td>01J</td>\n",
              "      <td>Hilliard Airpark</td>\n",
              "      <td>Hilliard</td>\n",
              "      <td>FL</td>\n",
              "      <td>USA</td>\n",
              "      <td>30.688012</td>\n",
              "      <td>-81.905944</td>\n",
              "    </tr>\n",
              "    <tr>\n",
              "      <th>...</th>\n",
              "      <td>...</td>\n",
              "      <td>...</td>\n",
              "      <td>...</td>\n",
              "      <td>...</td>\n",
              "      <td>...</td>\n",
              "      <td>...</td>\n",
              "      <td>...</td>\n",
              "    </tr>\n",
              "    <tr>\n",
              "      <th>3371</th>\n",
              "      <td>ZEF</td>\n",
              "      <td>Elkin Municipal</td>\n",
              "      <td>Elkin</td>\n",
              "      <td>NC</td>\n",
              "      <td>USA</td>\n",
              "      <td>36.280024</td>\n",
              "      <td>-80.786069</td>\n",
              "    </tr>\n",
              "    <tr>\n",
              "      <th>3372</th>\n",
              "      <td>ZER</td>\n",
              "      <td>Schuylkill Cty/Joe Zerbey</td>\n",
              "      <td>Pottsville</td>\n",
              "      <td>PA</td>\n",
              "      <td>USA</td>\n",
              "      <td>40.706449</td>\n",
              "      <td>-76.373147</td>\n",
              "    </tr>\n",
              "    <tr>\n",
              "      <th>3373</th>\n",
              "      <td>ZPH</td>\n",
              "      <td>Zephyrhills Municipal</td>\n",
              "      <td>Zephyrhills</td>\n",
              "      <td>FL</td>\n",
              "      <td>USA</td>\n",
              "      <td>28.228065</td>\n",
              "      <td>-82.155916</td>\n",
              "    </tr>\n",
              "    <tr>\n",
              "      <th>3374</th>\n",
              "      <td>ZUN</td>\n",
              "      <td>Black Rock</td>\n",
              "      <td>Zuni</td>\n",
              "      <td>NM</td>\n",
              "      <td>USA</td>\n",
              "      <td>35.083227</td>\n",
              "      <td>-108.791777</td>\n",
              "    </tr>\n",
              "    <tr>\n",
              "      <th>3375</th>\n",
              "      <td>ZZV</td>\n",
              "      <td>Zanesville Municipal</td>\n",
              "      <td>Zanesville</td>\n",
              "      <td>OH</td>\n",
              "      <td>USA</td>\n",
              "      <td>39.944458</td>\n",
              "      <td>-81.892105</td>\n",
              "    </tr>\n",
              "  </tbody>\n",
              "</table>\n",
              "<p>3376 rows × 7 columns</p>\n",
              "</div>\n",
              "      <button class=\"colab-df-convert\" onclick=\"convertToInteractive('df-4063b9fb-c1e8-480c-a32f-5967eedad4db')\"\n",
              "              title=\"Convert this dataframe to an interactive table.\"\n",
              "              style=\"display:none;\">\n",
              "        \n",
              "  <svg xmlns=\"http://www.w3.org/2000/svg\" height=\"24px\"viewBox=\"0 0 24 24\"\n",
              "       width=\"24px\">\n",
              "    <path d=\"M0 0h24v24H0V0z\" fill=\"none\"/>\n",
              "    <path d=\"M18.56 5.44l.94 2.06.94-2.06 2.06-.94-2.06-.94-.94-2.06-.94 2.06-2.06.94zm-11 1L8.5 8.5l.94-2.06 2.06-.94-2.06-.94L8.5 2.5l-.94 2.06-2.06.94zm10 10l.94 2.06.94-2.06 2.06-.94-2.06-.94-.94-2.06-.94 2.06-2.06.94z\"/><path d=\"M17.41 7.96l-1.37-1.37c-.4-.4-.92-.59-1.43-.59-.52 0-1.04.2-1.43.59L10.3 9.45l-7.72 7.72c-.78.78-.78 2.05 0 2.83L4 21.41c.39.39.9.59 1.41.59.51 0 1.02-.2 1.41-.59l7.78-7.78 2.81-2.81c.8-.78.8-2.07 0-2.86zM5.41 20L4 18.59l7.72-7.72 1.47 1.35L5.41 20z\"/>\n",
              "  </svg>\n",
              "      </button>\n",
              "      \n",
              "  <style>\n",
              "    .colab-df-container {\n",
              "      display:flex;\n",
              "      flex-wrap:wrap;\n",
              "      gap: 12px;\n",
              "    }\n",
              "\n",
              "    .colab-df-convert {\n",
              "      background-color: #E8F0FE;\n",
              "      border: none;\n",
              "      border-radius: 50%;\n",
              "      cursor: pointer;\n",
              "      display: none;\n",
              "      fill: #1967D2;\n",
              "      height: 32px;\n",
              "      padding: 0 0 0 0;\n",
              "      width: 32px;\n",
              "    }\n",
              "\n",
              "    .colab-df-convert:hover {\n",
              "      background-color: #E2EBFA;\n",
              "      box-shadow: 0px 1px 2px rgba(60, 64, 67, 0.3), 0px 1px 3px 1px rgba(60, 64, 67, 0.15);\n",
              "      fill: #174EA6;\n",
              "    }\n",
              "\n",
              "    [theme=dark] .colab-df-convert {\n",
              "      background-color: #3B4455;\n",
              "      fill: #D2E3FC;\n",
              "    }\n",
              "\n",
              "    [theme=dark] .colab-df-convert:hover {\n",
              "      background-color: #434B5C;\n",
              "      box-shadow: 0px 1px 3px 1px rgba(0, 0, 0, 0.15);\n",
              "      filter: drop-shadow(0px 1px 2px rgba(0, 0, 0, 0.3));\n",
              "      fill: #FFFFFF;\n",
              "    }\n",
              "  </style>\n",
              "\n",
              "      <script>\n",
              "        const buttonEl =\n",
              "          document.querySelector('#df-4063b9fb-c1e8-480c-a32f-5967eedad4db button.colab-df-convert');\n",
              "        buttonEl.style.display =\n",
              "          google.colab.kernel.accessAllowed ? 'block' : 'none';\n",
              "\n",
              "        async function convertToInteractive(key) {\n",
              "          const element = document.querySelector('#df-4063b9fb-c1e8-480c-a32f-5967eedad4db');\n",
              "          const dataTable =\n",
              "            await google.colab.kernel.invokeFunction('convertToInteractive',\n",
              "                                                     [key], {});\n",
              "          if (!dataTable) return;\n",
              "\n",
              "          const docLinkHtml = 'Like what you see? Visit the ' +\n",
              "            '<a target=\"_blank\" href=https://colab.research.google.com/notebooks/data_table.ipynb>data table notebook</a>'\n",
              "            + ' to learn more about interactive tables.';\n",
              "          element.innerHTML = '';\n",
              "          dataTable['output_type'] = 'display_data';\n",
              "          await google.colab.output.renderOutput(dataTable, element);\n",
              "          const docLink = document.createElement('div');\n",
              "          docLink.innerHTML = docLinkHtml;\n",
              "          element.appendChild(docLink);\n",
              "        }\n",
              "      </script>\n",
              "    </div>\n",
              "  </div>\n",
              "  "
            ]
          },
          "metadata": {},
          "execution_count": 6
        }
      ]
    },
    {
      "cell_type": "markdown",
      "metadata": {
        "id": "mjYqrIl8zlD8"
      },
      "source": [
        "### Create a corresponding table in BigQuery\n",
        "\n",
        "Check the BigQuery interface after you run this step.\n",
        "\n",
        "You should see a table called `airports` now."
      ]
    },
    {
      "cell_type": "code",
      "metadata": {
        "id": "uTQPmleHyBiG",
        "colab": {
          "base_uri": "https://localhost:8080/"
        },
        "outputId": "cc63f904-8073-4069-e5b8-5b128a03d939"
      },
      "source": [
        "table_name = PROJECT_ID + '.vega.airports'\n",
        "print('Creating table ' + table_name)\n",
        "\n",
        "# Delete the table in case you're running this for the second time\n",
        "client.delete_table(table_name, not_found_ok=True)\n",
        "\n",
        "# Create the table\n",
        "# - we use the same field names as in the original data set\n",
        "table = bq.Table(table_name)\n",
        "table.schema = (\n",
        "        bq.SchemaField('iata',      'STRING'),\n",
        "        bq.SchemaField('name',      'STRING'),\n",
        "        bq.SchemaField('city',      'STRING'),\n",
        "        bq.SchemaField('state',     'STRING'),\n",
        "        bq.SchemaField('country',   'STRING'),\n",
        "        bq.SchemaField('latitude',  'FLOAT' ),\n",
        "        bq.SchemaField('longitude', 'FLOAT' )\n",
        ")\n",
        "client.create_table(table)"
      ],
      "execution_count": null,
      "outputs": [
        {
          "output_type": "stream",
          "name": "stdout",
          "text": [
            "Creating table bdcc2023.vega.airports\n"
          ]
        },
        {
          "output_type": "execute_result",
          "data": {
            "text/plain": [
              "Table(TableReference(DatasetReference('bdcc2023', 'vega'), 'airports'))"
            ]
          },
          "metadata": {},
          "execution_count": 7
        }
      ]
    },
    {
      "cell_type": "markdown",
      "metadata": {
        "id": "faAlqb642bzG"
      },
      "source": [
        "### Insert the data onto the BigQuery table\n",
        "\n",
        "Check the BigQuery interface after you run this step.\n",
        "\n",
        "You should see the `airports` table now has data.\n",
        "\n",
        "__Confirm that it has the same number of rows as the Pandas dataframe.__"
      ]
    },
    {
      "cell_type": "code",
      "metadata": {
        "id": "yvR5T1ft0J6N",
        "colab": {
          "base_uri": "https://localhost:8080/"
        },
        "outputId": "f5beb9c1-6d63-4bc0-9c82-f535d87ba349"
      },
      "source": [
        "import time\n",
        "\n",
        "print('Loading data into ' + table_name)\n",
        "load_job = client.load_table_from_dataframe(airports, table)\n",
        "\n",
        "while load_job.running():\n",
        "  print('waiting for the load job to complete')\n",
        "  time.sleep(1)\n",
        "\n",
        "if load_job.errors == None:\n",
        "  print('Load complete!')\n",
        "else:\n",
        "  print(load_job.errors)"
      ],
      "execution_count": null,
      "outputs": [
        {
          "output_type": "stream",
          "name": "stdout",
          "text": [
            "Loading data into bdcc2023.vega.airports\n",
            "waiting for the load job to complete\n",
            "waiting for the load job to complete\n",
            "Load complete!\n"
          ]
        }
      ]
    },
    {
      "cell_type": "markdown",
      "metadata": {
        "id": "VRdmmuDz6Uyj"
      },
      "source": [
        "## Exercise. Do the same for flight data\n",
        "\n",
        "At the end you should have created a table called `flights`.\n",
        "\n",
        "__Confirm that it has the same number of rows as the Pandas dataframe.__\n",
        "\n",
        "__Note:__ for the `count` field use the `INTEGER` type in the BigQuery schema.\n"
      ]
    },
    {
      "cell_type": "code",
      "metadata": {
        "id": "hFOWox2c3xf2",
        "colab": {
          "base_uri": "https://localhost:8080/",
          "height": 423
        },
        "outputId": "3df961e4-0a1b-42d3-83aa-2e4fbfb40b7c"
      },
      "source": [
        "flights = pd.read_csv(vd.data.flights_airport.url)\n",
        "flights"
      ],
      "execution_count": null,
      "outputs": [
        {
          "output_type": "execute_result",
          "data": {
            "text/plain": [
              "     origin destination  count\n",
              "0       ABE         ATL    853\n",
              "1       ABE         BHM      1\n",
              "2       ABE         CLE    805\n",
              "3       ABE         CLT    465\n",
              "4       ABE         CVG    247\n",
              "...     ...         ...    ...\n",
              "5361    YUM         IPL    326\n",
              "5362    YUM         LAS     99\n",
              "5363    YUM         LAX   1044\n",
              "5364    YUM         PHX   1961\n",
              "5365    YUM         SLC    440\n",
              "\n",
              "[5366 rows x 3 columns]"
            ],
            "text/html": [
              "\n",
              "  <div id=\"df-32258a7b-0f65-4fbf-9635-ac6e2c0ff92d\">\n",
              "    <div class=\"colab-df-container\">\n",
              "      <div>\n",
              "<style scoped>\n",
              "    .dataframe tbody tr th:only-of-type {\n",
              "        vertical-align: middle;\n",
              "    }\n",
              "\n",
              "    .dataframe tbody tr th {\n",
              "        vertical-align: top;\n",
              "    }\n",
              "\n",
              "    .dataframe thead th {\n",
              "        text-align: right;\n",
              "    }\n",
              "</style>\n",
              "<table border=\"1\" class=\"dataframe\">\n",
              "  <thead>\n",
              "    <tr style=\"text-align: right;\">\n",
              "      <th></th>\n",
              "      <th>origin</th>\n",
              "      <th>destination</th>\n",
              "      <th>count</th>\n",
              "    </tr>\n",
              "  </thead>\n",
              "  <tbody>\n",
              "    <tr>\n",
              "      <th>0</th>\n",
              "      <td>ABE</td>\n",
              "      <td>ATL</td>\n",
              "      <td>853</td>\n",
              "    </tr>\n",
              "    <tr>\n",
              "      <th>1</th>\n",
              "      <td>ABE</td>\n",
              "      <td>BHM</td>\n",
              "      <td>1</td>\n",
              "    </tr>\n",
              "    <tr>\n",
              "      <th>2</th>\n",
              "      <td>ABE</td>\n",
              "      <td>CLE</td>\n",
              "      <td>805</td>\n",
              "    </tr>\n",
              "    <tr>\n",
              "      <th>3</th>\n",
              "      <td>ABE</td>\n",
              "      <td>CLT</td>\n",
              "      <td>465</td>\n",
              "    </tr>\n",
              "    <tr>\n",
              "      <th>4</th>\n",
              "      <td>ABE</td>\n",
              "      <td>CVG</td>\n",
              "      <td>247</td>\n",
              "    </tr>\n",
              "    <tr>\n",
              "      <th>...</th>\n",
              "      <td>...</td>\n",
              "      <td>...</td>\n",
              "      <td>...</td>\n",
              "    </tr>\n",
              "    <tr>\n",
              "      <th>5361</th>\n",
              "      <td>YUM</td>\n",
              "      <td>IPL</td>\n",
              "      <td>326</td>\n",
              "    </tr>\n",
              "    <tr>\n",
              "      <th>5362</th>\n",
              "      <td>YUM</td>\n",
              "      <td>LAS</td>\n",
              "      <td>99</td>\n",
              "    </tr>\n",
              "    <tr>\n",
              "      <th>5363</th>\n",
              "      <td>YUM</td>\n",
              "      <td>LAX</td>\n",
              "      <td>1044</td>\n",
              "    </tr>\n",
              "    <tr>\n",
              "      <th>5364</th>\n",
              "      <td>YUM</td>\n",
              "      <td>PHX</td>\n",
              "      <td>1961</td>\n",
              "    </tr>\n",
              "    <tr>\n",
              "      <th>5365</th>\n",
              "      <td>YUM</td>\n",
              "      <td>SLC</td>\n",
              "      <td>440</td>\n",
              "    </tr>\n",
              "  </tbody>\n",
              "</table>\n",
              "<p>5366 rows × 3 columns</p>\n",
              "</div>\n",
              "      <button class=\"colab-df-convert\" onclick=\"convertToInteractive('df-32258a7b-0f65-4fbf-9635-ac6e2c0ff92d')\"\n",
              "              title=\"Convert this dataframe to an interactive table.\"\n",
              "              style=\"display:none;\">\n",
              "        \n",
              "  <svg xmlns=\"http://www.w3.org/2000/svg\" height=\"24px\"viewBox=\"0 0 24 24\"\n",
              "       width=\"24px\">\n",
              "    <path d=\"M0 0h24v24H0V0z\" fill=\"none\"/>\n",
              "    <path d=\"M18.56 5.44l.94 2.06.94-2.06 2.06-.94-2.06-.94-.94-2.06-.94 2.06-2.06.94zm-11 1L8.5 8.5l.94-2.06 2.06-.94-2.06-.94L8.5 2.5l-.94 2.06-2.06.94zm10 10l.94 2.06.94-2.06 2.06-.94-2.06-.94-.94-2.06-.94 2.06-2.06.94z\"/><path d=\"M17.41 7.96l-1.37-1.37c-.4-.4-.92-.59-1.43-.59-.52 0-1.04.2-1.43.59L10.3 9.45l-7.72 7.72c-.78.78-.78 2.05 0 2.83L4 21.41c.39.39.9.59 1.41.59.51 0 1.02-.2 1.41-.59l7.78-7.78 2.81-2.81c.8-.78.8-2.07 0-2.86zM5.41 20L4 18.59l7.72-7.72 1.47 1.35L5.41 20z\"/>\n",
              "  </svg>\n",
              "      </button>\n",
              "      \n",
              "  <style>\n",
              "    .colab-df-container {\n",
              "      display:flex;\n",
              "      flex-wrap:wrap;\n",
              "      gap: 12px;\n",
              "    }\n",
              "\n",
              "    .colab-df-convert {\n",
              "      background-color: #E8F0FE;\n",
              "      border: none;\n",
              "      border-radius: 50%;\n",
              "      cursor: pointer;\n",
              "      display: none;\n",
              "      fill: #1967D2;\n",
              "      height: 32px;\n",
              "      padding: 0 0 0 0;\n",
              "      width: 32px;\n",
              "    }\n",
              "\n",
              "    .colab-df-convert:hover {\n",
              "      background-color: #E2EBFA;\n",
              "      box-shadow: 0px 1px 2px rgba(60, 64, 67, 0.3), 0px 1px 3px 1px rgba(60, 64, 67, 0.15);\n",
              "      fill: #174EA6;\n",
              "    }\n",
              "\n",
              "    [theme=dark] .colab-df-convert {\n",
              "      background-color: #3B4455;\n",
              "      fill: #D2E3FC;\n",
              "    }\n",
              "\n",
              "    [theme=dark] .colab-df-convert:hover {\n",
              "      background-color: #434B5C;\n",
              "      box-shadow: 0px 1px 3px 1px rgba(0, 0, 0, 0.15);\n",
              "      filter: drop-shadow(0px 1px 2px rgba(0, 0, 0, 0.3));\n",
              "      fill: #FFFFFF;\n",
              "    }\n",
              "  </style>\n",
              "\n",
              "      <script>\n",
              "        const buttonEl =\n",
              "          document.querySelector('#df-32258a7b-0f65-4fbf-9635-ac6e2c0ff92d button.colab-df-convert');\n",
              "        buttonEl.style.display =\n",
              "          google.colab.kernel.accessAllowed ? 'block' : 'none';\n",
              "\n",
              "        async function convertToInteractive(key) {\n",
              "          const element = document.querySelector('#df-32258a7b-0f65-4fbf-9635-ac6e2c0ff92d');\n",
              "          const dataTable =\n",
              "            await google.colab.kernel.invokeFunction('convertToInteractive',\n",
              "                                                     [key], {});\n",
              "          if (!dataTable) return;\n",
              "\n",
              "          const docLinkHtml = 'Like what you see? Visit the ' +\n",
              "            '<a target=\"_blank\" href=https://colab.research.google.com/notebooks/data_table.ipynb>data table notebook</a>'\n",
              "            + ' to learn more about interactive tables.';\n",
              "          element.innerHTML = '';\n",
              "          dataTable['output_type'] = 'display_data';\n",
              "          await google.colab.output.renderOutput(dataTable, element);\n",
              "          const docLink = document.createElement('div');\n",
              "          docLink.innerHTML = docLinkHtml;\n",
              "          element.appendChild(docLink);\n",
              "        }\n",
              "      </script>\n",
              "    </div>\n",
              "  </div>\n",
              "  "
            ]
          },
          "metadata": {},
          "execution_count": 9
        }
      ]
    }
  ]
}